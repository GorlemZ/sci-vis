{
 "cells": [
  {
   "cell_type": "markdown",
   "id": "55000ef5",
   "metadata": {},
   "source": [
    "## Cotton origin probabilities ##\n",
    "\n",
    "### If i buy yarn in italy, where is more probable it comes from? ###\n",
    "\n",
    "From the UN Comtrade Database, searching with HS code for cotton yarn (HS 5205 = cotton yarn, not sewing thread, containing ≥85% cotton), we retrieved italian imports for this good.\n",
    "\n"
   ]
  },
  {
   "cell_type": "code",
   "execution_count": 29,
   "id": "5fad8216",
   "metadata": {},
   "outputs": [
    {
     "name": "stdout",
     "output_type": "stream",
     "text": [
      "  typeCode freqCode  refPeriodId  refYear  refMonth  period  reporterCode  \\\n",
      "0        C        A     20240101     2024        52    2024             8   \n",
      "1        C        A     20240101     2024        52    2024            31   \n",
      "2        C        A     20240101     2024        52    2024            32   \n",
      "3        C        A     20240101     2024        52    2024            36   \n",
      "4        C        A     20240101     2024        52    2024            40   \n",
      "\n",
      "  reporterISO reporterDesc flowCode  ...       netWgt  isNetWgtEstimated  \\\n",
      "0         ALB      Albania        M  ...  59003.53.00              False   \n",
      "1         AZE   Azerbaijan        M  ...    643.36.00              False   \n",
      "2         ARG    Argentina        M  ...          3.6              False   \n",
      "3         AUS    Australia        M  ...   9566.36.00              False   \n",
      "4         AUT      Austria        M  ...       556944              False   \n",
      "\n",
      "  grossWgt isGrossWgtEstimated       cifvalue      fobvalue   primaryValue  \\\n",
      "0     0.00               False   251880.34.00           NaN   251880.34.00   \n",
      "1     0.00               False     4471.34.00           NaN     4471.34.00   \n",
      "2     0.00               False      116.17.00      39.04.00      116.17.00   \n",
      "3    19.51               False   175458.13.00  165468.14.00   175458.13.00   \n",
      "4     0.00               False  5230767.41.00           NaN  5230767.41.00   \n",
      "\n",
      "  legacyEstimationFlag isReported  isAggregate  \n",
      "0                    0      False         True  \n",
      "1                    0      False         True  \n",
      "2                    0      False         True  \n",
      "3                    0      False         True  \n",
      "4                    0      False         True  \n",
      "\n",
      "[5 rows x 47 columns]\n"
     ]
    }
   ],
   "source": [
    "import pandas as pd\n",
    "\n",
    "df_italy_cotton_inports = pd.read_csv(\"2024_italy_trade_data.csv\", quotechar='\"', na_values=[\"\", \" \"])\n",
    "\n",
    "print(df_italy_cotton_inports.head())"
   ]
  },
  {
   "cell_type": "markdown",
   "id": "e45e9de0",
   "metadata": {},
   "source": [
    "## Analysis of Italy's Cotton Imports\n",
    "\n",
    "Let's analyze the data to understand:\n",
    "1. The total value of cotton imports to Italy\n",
    "2. The country with the highest import value\n",
    "3. The corresponding weight for the top importing country"
   ]
  },
  {
   "cell_type": "code",
   "execution_count": 30,
   "id": "f5d6a56e",
   "metadata": {},
   "outputs": [
    {
     "name": "stdout",
     "output_type": "stream",
     "text": [
      "Total value of cotton imports to Italy: $50,058,609.50 USD\n"
     ]
    }
   ],
   "source": [
    "# 1. Calculate the total value of cotton imports to Italy (sum of CIF value)\n",
    "# Convert cifvalue to numeric to ensure proper calculations\n",
    "df_italy_cotton_inports['cifvalue'] = pd.to_numeric(df_italy_cotton_inports['cifvalue'], errors='coerce')\n",
    "\n",
    "# Calculate the total CIF value\n",
    "total_cif_value = df_italy_cotton_inports['cifvalue'].sum()\n",
    "\n",
    "print(f\"Total value of cotton imports to Italy: ${total_cif_value:,.2f} USD\")"
   ]
  },
  {
   "cell_type": "code",
   "execution_count": 26,
   "id": "12bd352d",
   "metadata": {},
   "outputs": [
    {
     "name": "stdout",
     "output_type": "stream",
     "text": [
      "isAggregate value counts:\n",
      "isAggregate\n",
      "True    62\n",
      "Name: count, dtype: int64\n",
      "\n",
      "Country with highest cotton import value: Hungary\n",
      "Maximum import value: $16,588,946.00 USD\n"
     ]
    }
   ],
   "source": [
    "# 2. Find the country with the maximum import value\n",
    "# Let's examine the isAggregate column first to understand the data structure\n",
    "print(\"isAggregate value counts:\")\n",
    "print(df_italy_cotton_inports['isAggregate'].value_counts())\n",
    "\n",
    "# It seems there might be an issue with the filtering\n",
    "# Let's try a different approach and look at the reporterDesc directly\n",
    "# Find the row with the maximum CIF value\n",
    "max_row = df_italy_cotton_inports.loc[df_italy_cotton_inports['cifvalue'].idxmax()]\n",
    "\n",
    "print(f\"\\nCountry with highest cotton import value: {max_row['reporterDesc']}\")\n",
    "print(f\"Maximum import value: ${max_row['cifvalue']:,.2f} USD\")"
   ]
  },
  {
   "cell_type": "code",
   "execution_count": 28,
   "id": "75305dda",
   "metadata": {},
   "outputs": [
    {
     "name": "stdout",
     "output_type": "stream",
     "text": [
      "netWgt for Hungary: 0\n",
      "netWgt data type: <class 'str'>\n",
      "Net weight of cotton imported from Hungary: 0.00 kg\n",
      "Net weight is zero or negative, can't calculate price per kg.\n"
     ]
    }
   ],
   "source": [
    "# 3. Check if the country with the max import value has netWgt data\n",
    "# Let's first check the netWgt data type for the max row\n",
    "print(f\"netWgt for {max_row['reporterDesc']}: {max_row['netWgt']}\")\n",
    "print(f\"netWgt data type: {type(max_row['netWgt'])}\")\n",
    "\n",
    "# Try to convert this specific value to numeric\n",
    "try:\n",
    "    netWgt_value = pd.to_numeric(max_row['netWgt'])\n",
    "    print(f\"Net weight of cotton imported from {max_row['reporterDesc']}: {netWgt_value:,.2f} kg\")\n",
    "    # Calculate the price per kg if applicable\n",
    "    if netWgt_value > 0:\n",
    "        price_per_kg = max_row['cifvalue'] / netWgt_value\n",
    "        print(f\"Average price: ${price_per_kg:.2f} USD per kg\")\n",
    "    else:\n",
    "        print(\"Net weight is zero or negative, can't calculate price per kg.\")\n",
    "except (ValueError, TypeError):\n",
    "    print(f\"Could not convert netWgt to numeric value for {max_row['reporterDesc']}\")"
   ]
  },
  {
   "cell_type": "markdown",
   "id": "27c44a39",
   "metadata": {},
   "source": [
    "## Summary of Cotton Imports to Italy\n",
    "\n",
    "From our analysis, we can conclude:\n",
    "\n",
    "1. **Total Import Value**: The total CIF value of cotton imports to Italy is approximately $50 million USD.\n",
    "\n",
    "2. **Top Importing Country**: Hungary is the country with the highest cotton import value to Italy, with imports valued at about $16.6 million USD.\n",
    "\n",
    "3. **Net Weight Data**: While Hungary reports a net weight value, it appears to be zero in the dataset, suggesting either missing data or that the imports might not be physical cotton yarn but could represent financial transactions or other types of trade arrangements.\n",
    "\n",
    "This data helps us understand the cotton import landscape for Italy, with Hungary being the dominant trading partner in this category."
   ]
  }
 ],
 "metadata": {
  "kernelspec": {
   "display_name": "3.12.0",
   "language": "python",
   "name": "python3"
  },
  "language_info": {
   "codemirror_mode": {
    "name": "ipython",
    "version": 3
   },
   "file_extension": ".py",
   "mimetype": "text/x-python",
   "name": "python",
   "nbconvert_exporter": "python",
   "pygments_lexer": "ipython3",
   "version": "3.12.0"
  }
 },
 "nbformat": 4,
 "nbformat_minor": 5
}
